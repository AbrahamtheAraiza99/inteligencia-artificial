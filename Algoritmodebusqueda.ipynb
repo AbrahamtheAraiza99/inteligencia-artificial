{
  "nbformat": 4,
  "nbformat_minor": 0,
  "metadata": {
    "colab": {
      "provenance": [],
      "authorship_tag": "ABX9TyMET62ZZ6eCjv8MG3ws7TYO",
      "include_colab_link": true
    },
    "kernelspec": {
      "name": "python3",
      "display_name": "Python 3"
    },
    "language_info": {
      "name": "python"
    }
  },
  "cells": [
    {
      "cell_type": "markdown",
      "metadata": {
        "id": "view-in-github",
        "colab_type": "text"
      },
      "source": [
        "<a href=\"https://colab.research.google.com/github/AbrahamtheAraiza99/inteligencia-artificial/blob/master/Algoritmodebusqueda.ipynb\" target=\"_parent\"><img src=\"https://colab.research.google.com/assets/colab-badge.svg\" alt=\"Open In Colab\"/></a>"
      ]
    },
    {
      "cell_type": "code",
      "execution_count": 8,
      "metadata": {
        "colab": {
          "base_uri": "https://localhost:8080/"
        },
        "id": "-NmKIliG-wjE",
        "outputId": "4c11c120-5fd8-42ec-af1b-2899fe4c684f"
      },
      "outputs": [
        {
          "output_type": "stream",
          "name": "stdout",
          "text": [
            "DFS Nodes Explored: 4\n",
            "BFS Nodes Explored: 7\n",
            "UCS Nodes Explored: 5\n",
            "DFS Path: ['A', 'C', 'F', 'G']\n",
            "BFS Path: ['A', 'B', 'D', 'G']\n",
            "UCS Path: ['A', 'B', 'D', 'G']\n",
            "Best Search Method: DFS with 4 nodes in path.\n"
          ]
        }
      ],
      "source": [
        "from collections import deque\n",
        "import heapq\n",
        "\n",
        "class Node:\n",
        "    def __init__(self, name, cost=0, parent=None):\n",
        "        self.name = name\n",
        "        self.cost = cost\n",
        "        self.parent = parent\n",
        "\n",
        "    def __lt__(self, other):  # Para PriorityQueue (heapq)\n",
        "        return self.cost < other.cost\n",
        "\n",
        "def reconstruct_path(node):\n",
        "    path = []\n",
        "    while node:\n",
        "        path.append(node.name)\n",
        "        node = node.parent\n",
        "    return path[::-1]\n",
        "\n",
        "def dfs(graph, start, goal):\n",
        "    stack = [Node(start)]\n",
        "    visited = set()\n",
        "    nodes_explored = 0\n",
        "\n",
        "    while stack:\n",
        "        node = stack.pop()\n",
        "        if node.name not in visited:\n",
        "            visited.add(node.name)\n",
        "            nodes_explored += 1\n",
        "            if node.name == goal:\n",
        "                print(f\"DFS Nodes Explored: {nodes_explored}\")\n",
        "                return reconstruct_path(node)\n",
        "            for neighbor in graph.get(node.name, []):\n",
        "                stack.append(Node(neighbor.name, 0, node))\n",
        "    print(f\"DFS Nodes Explored: {nodes_explored}\")\n",
        "    return None\n",
        "\n",
        "def bfs(graph, start, goal):\n",
        "    queue = deque([Node(start)])\n",
        "    visited = set()\n",
        "    nodes_explored = 0\n",
        "\n",
        "    while queue:\n",
        "        node = queue.popleft()\n",
        "        if node.name not in visited:\n",
        "            visited.add(node.name)\n",
        "            nodes_explored += 1\n",
        "            if node.name == goal:\n",
        "                print(f\"BFS Nodes Explored: {nodes_explored}\")\n",
        "                return reconstruct_path(node)\n",
        "            for neighbor in graph.get(node.name, []):\n",
        "                queue.append(Node(neighbor.name, 0, node))\n",
        "    print(f\"BFS Nodes Explored: {nodes_explored}\")\n",
        "    return None\n",
        "\n",
        "def ucs(graph, start, goal):\n",
        "    pq = []\n",
        "    heapq.heappush(pq, Node(start, 0, None))\n",
        "    visited = {}\n",
        "    nodes_explored = 0\n",
        "\n",
        "    while pq:\n",
        "        node = heapq.heappop(pq)\n",
        "        if node.name in visited and visited[node.name] <= node.cost:\n",
        "            continue\n",
        "        visited[node.name] = node.cost\n",
        "        nodes_explored += 1\n",
        "        if node.name == goal:\n",
        "            print(f\"UCS Nodes Explored: {nodes_explored}\")\n",
        "            return reconstruct_path(node)\n",
        "        for neighbor in graph.get(node.name, []):\n",
        "            heapq.heappush(pq, Node(neighbor.name, node.cost + neighbor.cost, node))\n",
        "    print(f\"UCS Nodes Explored: {nodes_explored}\")\n",
        "    return None\n",
        "\n",
        "def main():\n",
        "    graph = {\n",
        "        \"A\": [Node(\"B\", 1), Node(\"C\", 4)],\n",
        "        \"B\": [Node(\"D\", 2), Node(\"E\", 5)],\n",
        "        \"C\": [Node(\"F\", 3)],\n",
        "        \"D\": [Node(\"G\", 1)],\n",
        "        \"E\": [Node(\"G\", 2)],\n",
        "        \"F\": [Node(\"G\", 2)],\n",
        "        \"G\": []\n",
        "    }\n",
        "\n",
        "    dfs_path = dfs(graph, \"A\", \"G\")\n",
        "    bfs_path = bfs(graph, \"A\", \"G\")\n",
        "    ucs_path = ucs(graph, \"A\", \"G\")\n",
        "\n",
        "    print(\"DFS Path:\", dfs_path)\n",
        "    print(\"BFS Path:\", bfs_path)\n",
        "    print(\"UCS Path:\", ucs_path)\n",
        "\n",
        "    results = {\n",
        "        \"DFS\": len(dfs_path) if dfs_path else float('inf'),\n",
        "        \"BFS\": len(bfs_path) if bfs_path else float('inf'),\n",
        "        \"UCS\": len(ucs_path) if ucs_path else float('inf')\n",
        "    }\n",
        "\n",
        "    best_method = min(results, key=results.get)\n",
        "    print(f\"Best Search Method: {best_method} with {results[best_method]} nodes in path.\")\n",
        "\n",
        "main()\n"
      ]
    }
  ]
}