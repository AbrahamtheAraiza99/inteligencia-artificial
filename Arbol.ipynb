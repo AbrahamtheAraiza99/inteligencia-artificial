{
  "nbformat": 4,
  "nbformat_minor": 0,
  "metadata": {
    "colab": {
      "provenance": [],
      "authorship_tag": "ABX9TyPb+sa+14v5BCpCk0yNFSYB",
      "include_colab_link": true
    },
    "kernelspec": {
      "name": "python3",
      "display_name": "Python 3"
    },
    "language_info": {
      "name": "python"
    }
  },
  "cells": [
    {
      "cell_type": "markdown",
      "metadata": {
        "id": "view-in-github",
        "colab_type": "text"
      },
      "source": [
        "<a href=\"https://colab.research.google.com/github/AbrahamtheAraiza99/inteligencia-artificial/blob/master/Arbol.ipynb\" target=\"_parent\"><img src=\"https://colab.research.google.com/assets/colab-badge.svg\" alt=\"Open In Colab\"/></a>"
      ]
    },
    {
      "cell_type": "code",
      "execution_count": 17,
      "metadata": {
        "colab": {
          "base_uri": "https://localhost:8080/"
        },
        "id": "7U-I2NLg4nGi",
        "outputId": "784b0bcd-19ff-479b-d1ff-030603ed00c7"
      },
      "outputs": [
        {
          "output_type": "stream",
          "name": "stdout",
          "text": [
            "¿El árbol está vacío? No\n",
            "Nodo encontrado: Pedro\n",
            "Recorrido en orden: Ana Carlos Luis Pedro \n"
          ]
        }
      ],
      "source": [
        "# Clase Nodo\n",
        "class Nodo:\n",
        "    def __init__(self, nombre):\n",
        "        self.nombre = nombre\n",
        "        self.izquierdo = None\n",
        "        self.derecho = None\n",
        "\n",
        "# Clase Arbol\n",
        "class Arbol:\n",
        "    def __init__(self):\n",
        "        self.raiz = None\n",
        "\n",
        "    def vacio(self):\n",
        "        return self.raiz is None\n",
        "\n",
        "    def insertar(self, nombre):\n",
        "        self.raiz = self._insertarRec(self.raiz, nombre)\n",
        "\n",
        "    def _insertarRec(self, nodo, nombre):\n",
        "        if nodo is None:\n",
        "            return Nodo(nombre)\n",
        "        if nombre < nodo.nombre:\n",
        "            nodo.izquierdo = self._insertarRec(nodo.izquierdo, nombre)\n",
        "        elif nombre > nodo.nombre:\n",
        "            nodo.derecho = self._insertarRec(nodo.derecho, nombre)\n",
        "        return nodo\n",
        "\n",
        "    def buscarNodo(self, nombre):\n",
        "        return self._buscarRec(self.raiz, nombre)\n",
        "\n",
        "    def _buscarRec(self, nodo, nombre):\n",
        "        if nodo is None or nodo.nombre == nombre:\n",
        "            return nodo\n",
        "        if nombre < nodo.nombre:\n",
        "            return self._buscarRec(nodo.izquierdo, nombre)\n",
        "        else:\n",
        "            return self._buscarRec(nodo.derecho, nombre)\n",
        "\n",
        "    def inOrden(self):\n",
        "        self._inOrdenRec(self.raiz)\n",
        "        print()  # salto de línea al final\n",
        "\n",
        "    def _inOrdenRec(self, nodo):\n",
        "        if nodo is not None:\n",
        "            self._inOrdenRec(nodo.izquierdo)\n",
        "            print(nodo.nombre, end=\" \")\n",
        "            self._inOrdenRec(nodo.derecho)\n",
        "\n",
        "# Función principal para probar el árbol\n",
        "def main():\n",
        "    arbol = Arbol()\n",
        "\n",
        "    # Insertar nodos\n",
        "    arbol.insertar(\"Carlos\")\n",
        "    arbol.insertar(\"Ana\")\n",
        "    arbol.insertar(\"Pedro\")\n",
        "    arbol.insertar(\"Luis\")\n",
        "\n",
        "    # Verificar si el árbol está vacío\n",
        "    print(\"¿El árbol está vacío? \" + (\"Sí\" if arbol.vacio() else \"No\"))\n",
        "\n",
        "    # Buscar un nodo\n",
        "    nombreBuscado = \"Pedro\"\n",
        "    buscado = arbol.buscarNodo(nombreBuscado)\n",
        "    if buscado is not None:\n",
        "        print(\"Nodo encontrado:\", buscado.nombre)\n",
        "    else:\n",
        "        print(f\"Nodo '{nombreBuscado}' no encontrado.\")\n",
        "\n",
        "    # Mostrar recorrido en orden\n",
        "    print(\"Recorrido en orden:\", end=\" \")\n",
        "    arbol.inOrden()\n",
        "\n",
        "# Ejecutar la función principal\n",
        "main()\n"
      ]
    },
    {
      "cell_type": "code",
      "source": [],
      "metadata": {
        "id": "9WN2C1Xg4wNd"
      },
      "execution_count": 5,
      "outputs": []
    },
    {
      "cell_type": "code",
      "source": [],
      "metadata": {
        "id": "VnvyVNqY43a9"
      },
      "execution_count": 5,
      "outputs": []
    }
  ]
}