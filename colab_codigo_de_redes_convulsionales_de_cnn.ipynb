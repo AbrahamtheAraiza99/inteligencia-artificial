{
  "nbformat": 4,
  "nbformat_minor": 0,
  "metadata": {
    "colab": {
      "provenance": [],
      "authorship_tag": "ABX9TyOB+zitFqDbQzG13EEEOhrI",
      "include_colab_link": true
    },
    "kernelspec": {
      "name": "python3",
      "display_name": "Python 3"
    },
    "language_info": {
      "name": "python"
    }
  },
  "cells": [
    {
      "cell_type": "markdown",
      "metadata": {
        "id": "view-in-github",
        "colab_type": "text"
      },
      "source": [
        "<a href=\"https://colab.research.google.com/github/AbrahamtheAraiza99/inteligencia-artificial/blob/master/colab_codigo_de_redes_convulsionales_de_cnn.ipynb\" target=\"_parent\"><img src=\"https://colab.research.google.com/assets/colab-badge.svg\" alt=\"Open In Colab\"/></a>"
      ]
    },
    {
      "cell_type": "code",
      "execution_count": 2,
      "metadata": {
        "ExecuteTime": {
          "end_time": "2020-09-11T10:09:11.689701Z",
          "start_time": "2020-09-11T10:09:10.527700Z"
        },
        "id": "AMlipy3pe81W"
      },
      "outputs": [],
      "source": [
        "import torch\n",
        "import torchvision\n",
        "\n",
        "device = \"cuda\" if torch.cuda.is_available() else \"cpu\""
      ]
    },
    {
      "cell_type": "code",
      "execution_count": null,
      "metadata": {
        "ExecuteTime": {
          "end_time": "2020-09-11T10:09:26.674543Z",
          "start_time": "2020-09-11T10:09:16.775743Z"
        },
        "colab": {
          "base_uri": "https://localhost:8080/"
        },
        "id": "7tmdS0V0e81X",
        "outputId": "81d9ae02-cb3f-4bea-a8a9-24405821efd9"
      },
      "outputs": [
        {
          "output_type": "stream",
          "name": "stdout",
          "text": [
            "Files already downloaded and verified\n",
            "Files already downloaded and verified\n"
          ]
        }
      ],
      "source": [
        "trainset = torchvision.datasets.CIFAR10(root='./data', train=True, download=True)\n",
        "\n",
        "testset = torchvision.datasets.CIFAR10(root='./data', train=False, download=True)\n",
        "\n",
        "classes = ('plane', 'car', 'bird', 'cat',\n",
        "           'deer', 'dog', 'frog', 'horse', 'ship', 'truck')"
      ]
    },
    {
      "cell_type": "code",
      "execution_count": null,
      "metadata": {
        "ExecuteTime": {
          "end_time": "2020-09-11T10:09:36.429160Z",
          "start_time": "2020-09-11T10:09:32.689230Z"
        },
        "id": "7IN3kCY3e81X",
        "outputId": "1f791554-b6f3-4798-8599-521db14990fb",
        "colab": {
          "base_uri": "https://localhost:8080/"
        }
      },
      "outputs": [
        {
          "output_type": "execute_result",
          "data": {
            "text/plain": [
              "((50000, 32, 32, 3), (10000, 32, 32, 3))"
            ]
          },
          "metadata": {},
          "execution_count": 28
        }
      ],
      "source": [
        "import numpy as np\n",
        "\n",
        "train_imgs, train_labels = np.array([np.array(i[0]) for i in trainset]), np.array([i[1] for i in trainset])\n",
        "test_imgs, test_labels = np.array([np.array(i[0]) for i in testset]), np.array([i[1] for i in testset])\n",
        "\n",
        "train_imgs.shape, test_imgs.shape"
      ]
    },
    {
      "cell_type": "code",
      "execution_count": null,
      "metadata": {
        "ExecuteTime": {
          "end_time": "2020-09-11T10:10:08.522205Z",
          "start_time": "2020-09-11T10:10:08.161034Z"
        },
        "id": "iVaJ27uHe81X",
        "outputId": "ee92f8ba-d06e-4199-95ae-18491405a3d8",
        "colab": {
          "base_uri": "https://localhost:8080/",
          "height": 452
        }
      },
      "outputs": [
        {
          "output_type": "display_data",
          "data": {
            "text/plain": [
              "<Figure size 640x480 with 1 Axes>"
            ],
            "image/png": "[encoded data removed]"
          },
          "metadata": {}
        }
      ],
      "source": [
        "import random\n",
        "import matplotlib.pyplot as plt\n",
        "\n",
        "ix = random.randint(0, len(train_imgs))\n",
        "img, label = train_imgs[ix], train_labels[ix]\n",
        "\n",
        "plt.imshow(img)\n",
        "plt.title(classes[label])\n",
        "plt.show()"
      ]
    },
    {
      "cell_type": "code",
      "execution_count": null,
      "metadata": {
        "ExecuteTime": {
          "end_time": "2020-09-11T10:11:30.421738Z",
          "start_time": "2020-09-11T10:11:30.215641Z"
        },
        "id": "jHXESLD1e81Y",
        "outputId": "6103cc3b-1520-4b07-eca5-482291314250",
        "colab": {
          "base_uri": "https://localhost:8080/",
          "height": 412
        }
      },
      "outputs": [
        {
          "output_type": "display_data",
          "data": {
            "text/plain": [
              "<Figure size 1000x500 with 2 Axes>"
            ],
            "image/png": "[encoded data removed]"
          },
          "metadata": {}
        }
      ],
      "source": [
        "import numpy as np\n",
        "import scipy.signal\n",
        "from skimage import color\n",
        "from skimage import exposure\n",
        "\n",
        "img = color.rgb2gray(img)\n",
        "\n",
        "kernel = np.array([[1,1,1],\n",
        "                   [0,0,0],\n",
        "                   [-1,-1,-1]])\n",
        "\n",
        "edges = scipy.signal.convolve2d(img, kernel, 'valid')\n",
        "edges = exposure.equalize_adapthist(edges/np.max(np.abs(edges)), clip_limit=0.03)\n",
        "\n",
        "fig, (ax1, ax2) = plt.subplots(1, 2, figsize=(10,5))\n",
        "ax1.imshow(img, cmap=plt.cm.gray)\n",
        "ax2.imshow(edges, cmap=plt.cm.gray)\n",
        "plt.show()"
      ]
    },
    {
      "cell_type": "markdown",
      "metadata": {
        "id": "3Fc3UGtpe81Y"
      },
      "source": [
        "Si aplicamos ahora el mismo filtro, pero transpuesto, obtenemos un detector de líneas verticales."
      ]
    },
    {
      "cell_type": "code",
      "execution_count": null,
      "metadata": {
        "ExecuteTime": {
          "end_time": "2020-09-11T10:12:01.970740Z",
          "start_time": "2020-09-11T10:12:01.770223Z"
        },
        "id": "wzDNqw0fe81Y",
        "outputId": "832cd215-fa33-4af3-befe-f76616d5a114"
      },
      "outputs": [
        {
          "data": {
            "image/png": "[encoded data removed]",
            "text/plain": [
              "<Figure size 720x360 with 2 Axes>"
            ]
          },
          "metadata": {
            "needs_background": "light"
          },
          "output_type": "display_data"
        }
      ],
      "source": [
        "kernel = np.array([[1,0,-1],\n",
        "                   [1,0,-1],\n",
        "                   [1,0,-1]])\n",
        "\n",
        "edges = scipy.signal.convolve2d(img, kernel, 'valid')\n",
        "edges = exposure.equalize_adapthist(edges/np.max(np.abs(edges)), clip_limit=0.03)\n",
        "\n",
        "fig, (ax1, ax2) = plt.subplots(1, 2, figsize=(10,5))\n",
        "ax1.imshow(img, cmap=plt.cm.gray)\n",
        "ax2.imshow(edges, cmap=plt.cm.gray)\n",
        "plt.show()"
      ]
    },
    {
      "cell_type": "markdown",
      "metadata": {
        "id": "RoYlywEEe81Y"
      },
      "source": [
        "De la misma manera, el siguiente filtro será útil para detectar bordes en cualquier orientación."
      ]
    },
    {
      "cell_type": "code",
      "execution_count": null,
      "metadata": {
        "ExecuteTime": {
          "end_time": "2020-09-11T10:12:43.521901Z",
          "start_time": "2020-09-11T10:12:43.332821Z"
        },
        "id": "8O5wuJCHe81Y",
        "outputId": "1c2258ad-31f9-40f3-c2b5-aaf88dc2cc85"
      },
      "outputs": [
        {
          "data": {
            "image/png": "[encoded data removed]",
            "text/plain": [
              "<Figure size 720x360 with 2 Axes>"
            ]
          },
          "metadata": {
            "needs_background": "light"
          },
          "output_type": "display_data"
        }
      ],
      "source": [
        "kernel = np.array([[0,-1,0],\n",
        "                   [-1,4,-1],\n",
        "                   [0,-1,0]])\n",
        "\n",
        "edges = scipy.signal.convolve2d(img, kernel, 'valid')\n",
        "edges = exposure.equalize_adapthist(edges/np.max(np.abs(edges)), clip_limit=0.03)\n",
        "\n",
        "fig, (ax1, ax2) = plt.subplots(1, 2, figsize=(10,5))\n",
        "ax1.imshow(img, cmap=plt.cm.gray)\n",
        "ax2.imshow(edges, cmap=plt.cm.gray)\n",
        "plt.show()"
      ]
    },
    {
      "cell_type": "code",
      "execution_count": null,
      "metadata": {
        "ExecuteTime": {
          "end_time": "2020-09-11T10:16:47.324342Z",
          "start_time": "2020-09-11T10:16:47.218303Z"
        },
        "id": "ALqTTpOae81Z",
        "outputId": "22038671-dc3d-4c7c-8ee8-97239b5eefc7",
        "colab": {
          "base_uri": "https://localhost:8080/",
          "height": 452
        }
      },
      "outputs": [
        {
          "output_type": "display_data",
          "data": {
            "text/plain": [
              "<Figure size 640x480 with 1 Axes>"
            ],
            "image/png": "[encoded data removed]"
          },
          "metadata": {}
        }
      ],
      "source": [
        "ix = random.randint(0, len(train_imgs))\n",
        "img, label = train_imgs[ix], train_labels[ix]\n",
        "\n",
        "plt.imshow(img)\n",
        "plt.title(classes[label])\n",
        "plt.show()"
      ]
    },
    {
      "cell_type": "code",
      "execution_count": null,
      "metadata": {
        "ExecuteTime": {
          "end_time": "2020-09-11T10:21:46.977196Z",
          "start_time": "2020-09-11T10:21:46.973198Z"
        },
        "id": "_p6_zt-Ce81Z",
        "outputId": "15b689be-c7ee-4442-9f0b-cdadf2e543d1"
      },
      "outputs": [
        {
          "data": {
            "text/plain": [
              "(torch.Size([1, 3, 32, 32]), torch.float32)"
            ]
          },
          "execution_count": 14,
          "metadata": {},
          "output_type": "execute_result"
        }
      ],
      "source": [
        "# convertir la imágen en tensor con dimensiones (N, C_in, H, W)\n",
        "\n",
        "img_tensor = torch.from_numpy(img / 255.).unsqueeze(0)\n",
        "img_tensor = img_tensor.permute(0, 3, 1, 2).float()\n",
        "\n",
        "img_tensor.shape, img_tensor.dtype"
      ]
    },
    {
      "cell_type": "code",
      "execution_count": null,
      "metadata": {
        "ExecuteTime": {
          "end_time": "2020-09-11T10:22:21.819195Z",
          "start_time": "2020-09-11T10:22:21.813197Z"
        },
        "id": "QQjtAOp6e81Z",
        "outputId": "9e24c369-56de-4b54-c026-eb50e10b4323"
      },
      "outputs": [
        {
          "data": {
            "text/plain": [
              "torch.Size([1, 10, 30, 30])"
            ]
          },
          "execution_count": 16,
          "metadata": {},
          "output_type": "execute_result"
        }
      ],
      "source": [
        "# aplicamos 10 filtros de tamaño 3x3\n",
        "\n",
        "conv = torch.nn.Conv2d(in_channels = 3, out_channels = 10, kernel_size = 3)\n",
        "\n",
        "output = conv(img_tensor)\n",
        "\n",
        "# dimensiones: (N, #filtros, H', W')\n",
        "output.shape"
      ]
    },
    {
      "cell_type": "code",
      "execution_count": null,
      "metadata": {
        "ExecuteTime": {
          "end_time": "2020-09-11T10:28:30.014445Z",
          "start_time": "2020-09-11T10:28:30.007445Z"
        },
        "id": "8563N_Mke81Z",
        "outputId": "99d5a4b4-e6cd-4d8d-cec2-aa7419cabd39"
      },
      "outputs": [
        {
          "data": {
            "text/plain": [
              "torch.Size([1, 10, 32, 32])"
            ]
          },
          "execution_count": 17,
          "metadata": {},
          "output_type": "execute_result"
        }
      ],
      "source": [
        "conv = torch.nn.Conv2d(in_channels = 3, out_channels = 10, kernel_size = 3, padding = 1, stride = 1)\n",
        "\n",
        "output = conv(img_tensor)\n",
        "\n",
        "# dimensiones: (N, #filtros, H', W')\n",
        "output.shape"
      ]
    },
    {
      "cell_type": "code",
      "execution_count": null,
      "metadata": {
        "ExecuteTime": {
          "end_time": "2020-09-11T10:29:03.962582Z",
          "start_time": "2020-09-11T10:29:03.956582Z"
        },
        "id": "c8GvibfKe81Z",
        "outputId": "f5946104-59fd-44fd-db47-b8f0bc11e3b2"
      },
      "outputs": [
        {
          "data": {
            "text/plain": [
              "torch.Size([1, 10, 16, 16])"
            ]
          },
          "execution_count": 19,
          "metadata": {},
          "output_type": "execute_result"
        }
      ],
      "source": [
        "conv = torch.nn.Conv2d(in_channels = 3, out_channels = 10, kernel_size = 3, padding = 1, stride = 2)\n",
        "\n",
        "output = conv(img_tensor)\n",
        "\n",
        "# dimensiones: (N, #filtros, H', W')\n",
        "output.shape"
      ]
    },
    {
      "cell_type": "code",
      "execution_count": null,
      "metadata": {
        "ExecuteTime": {
          "end_time": "2020-09-11T10:36:02.735039Z",
          "start_time": "2020-09-11T10:36:02.631352Z"
        },
        "id": "qikmBeCXe81a",
        "outputId": "41b99f18-9a2d-4996-98e3-773d03601587",
        "colab": {
          "base_uri": "https://localhost:8080/",
          "height": 452
        }
      },
      "outputs": [
        {
          "output_type": "display_data",
          "data": {
            "text/plain": [
              "<Figure size 640x480 with 1 Axes>"
            ],
            "image/png": "[encoded data removed]"
          },
          "metadata": {}
        }
      ],
      "source": [
        "ix = random.randint(0, len(train_imgs))\n",
        "img, label = train_imgs[ix], train_labels[ix]\n",
        "\n",
        "plt.imshow(img)\n",
        "plt.title(classes[label])\n",
        "plt.show()"
      ]
    },
    {
      "cell_type": "code",
      "execution_count": null,
      "metadata": {
        "ExecuteTime": {
          "end_time": "2020-09-11T10:36:29.355312Z",
          "start_time": "2020-09-11T10:36:29.336666Z"
        },
        "id": "Ziru3vFTe81a",
        "outputId": "f6c116bd-653f-4baa-eebe-dc6468e44f03"
      },
      "outputs": [
        {
          "data": {
            "text/plain": [
              "torch.Size([1, 3, 16, 16])"
            ]
          },
          "execution_count": 23,
          "metadata": {},
          "output_type": "execute_result"
        }
      ],
      "source": [
        "pool = torch.nn.MaxPool2d(3, padding=1, stride=2)\n",
        "\n",
        "img_tensor = torch.from_numpy(img / 255.).unsqueeze(0).permute(0, 3, 1, 2).float()\n",
        "output = pool(img_tensor)\n",
        "output.shape"
      ]
    },
    {
      "cell_type": "code",
      "execution_count": null,
      "metadata": {
        "ExecuteTime": {
          "end_time": "2020-09-11T10:36:41.436312Z",
          "start_time": "2020-09-11T10:36:41.338315Z"
        },
        "id": "zcqAzPu4e81a",
        "outputId": "4d902d0f-0523-4f06-88ca-3d41dd2fb6aa"
      },
      "outputs": [
        {
          "data": {
            "image/png": "[encoded data removed]",
            "text/plain": [
              "<Figure size 432x288 with 1 Axes>"
            ]
          },
          "metadata": {
            "needs_background": "light"
          },
          "output_type": "display_data"
        }
      ],
      "source": [
        "plt.imshow(output.squeeze(0).permute(1,2,0))\n",
        "plt.show()"
      ]
    },
    {
      "cell_type": "code",
      "execution_count": null,
      "metadata": {
        "ExecuteTime": {
          "end_time": "2020-09-11T11:12:49.010456Z",
          "start_time": "2020-09-11T11:12:48.984456Z"
        },
        "id": "7ZBnLBK-e81a",
        "colab": {
          "base_uri": "https://localhost:8080/"
        },
        "outputId": "6f20ea94-6254-4f00-c911-09b84d71bd26"
      },
      "outputs": [
        {
          "output_type": "stream",
          "name": "stdout",
          "text": [
            "Downloading http://yann.lecun.com/exdb/mnist/train-images-idx3-ubyte.gz\n",
            "Failed to download (trying next):\n",
            "HTTP Error 404: Not Found\n",
            "\n",
            "Downloading https://ossci-datasets.s3.amazonaws.com/mnist/train-images-idx3-ubyte.gz\n",
            "Downloading https://ossci-datasets.s3.amazonaws.com/mnist/train-images-idx3-ubyte.gz to ../data/MNIST/raw/train-images-idx3-ubyte.gz\n"
          ]
        },
        {
          "output_type": "stream",
          "name": "stderr",
          "text": [
            "100%|██████████| 9.91M/9.91M [00:00<00:00, 17.6MB/s]\n"
          ]
        },
        {
          "output_type": "stream",
          "name": "stdout",
          "text": [
            "Extracting ../data/MNIST/raw/train-images-idx3-ubyte.gz to ../data/MNIST/raw\n",
            "\n",
            "Downloading http://yann.lecun.com/exdb/mnist/train-labels-idx1-ubyte.gz\n",
            "Failed to download (trying next):\n",
            "HTTP Error 404: Not Found\n",
            "\n",
            "Downloading https://ossci-datasets.s3.amazonaws.com/mnist/train-labels-idx1-ubyte.gz\n",
            "Downloading https://ossci-datasets.s3.amazonaws.com/mnist/train-labels-idx1-ubyte.gz to ../data/MNIST/raw/train-labels-idx1-ubyte.gz\n"
          ]
        },
        {
          "output_type": "stream",
          "name": "stderr",
          "text": [
            "100%|██████████| 28.9k/28.9k [00:00<00:00, 483kB/s]\n"
          ]
        },
        {
          "output_type": "stream",
          "name": "stdout",
          "text": [
            "Extracting ../data/MNIST/raw/train-labels-idx1-ubyte.gz to ../data/MNIST/raw\n",
            "\n",
            "Downloading http://yann.lecun.com/exdb/mnist/t10k-images-idx3-ubyte.gz\n",
            "Failed to download (trying next):\n",
            "HTTP Error 404: Not Found\n",
            "\n",
            "Downloading https://ossci-datasets.s3.amazonaws.com/mnist/t10k-images-idx3-ubyte.gz\n",
            "Downloading https://ossci-datasets.s3.amazonaws.com/mnist/t10k-images-idx3-ubyte.gz to ../data/MNIST/raw/t10k-images-idx3-ubyte.gz\n"
          ]
        },
        {
          "output_type": "stream",
          "name": "stderr",
          "text": [
            "100%|██████████| 1.65M/1.65M [00:00<00:00, 4.55MB/s]\n"
          ]
        },
        {
          "output_type": "stream",
          "name": "stdout",
          "text": [
            "Extracting ../data/MNIST/raw/t10k-images-idx3-ubyte.gz to ../data/MNIST/raw\n",
            "\n",
            "Downloading http://yann.lecun.com/exdb/mnist/t10k-labels-idx1-ubyte.gz\n",
            "Failed to download (trying next):\n",
            "HTTP Error 404: Not Found\n",
            "\n",
            "Downloading https://ossci-datasets.s3.amazonaws.com/mnist/t10k-labels-idx1-ubyte.gz\n",
            "Downloading https://ossci-datasets.s3.amazonaws.com/mnist/t10k-labels-idx1-ubyte.gz to ../data/MNIST/raw/t10k-labels-idx1-ubyte.gz\n"
          ]
        },
        {
          "output_type": "stream",
          "name": "stderr",
          "text": [
            "100%|██████████| 4.54k/4.54k [00:00<00:00, 7.15MB/s]"
          ]
        },
        {
          "output_type": "stream",
          "name": "stdout",
          "text": [
            "Extracting ../data/MNIST/raw/t10k-labels-idx1-ubyte.gz to ../data/MNIST/raw\n",
            "\n"
          ]
        },
        {
          "output_type": "stream",
          "name": "stderr",
          "text": [
            "\n"
          ]
        }
      ],
      "source": [
        "dataloader = {\n",
        "    'train': torch.utils.data.DataLoader(torchvision.datasets.MNIST('../data', train=True, download=True,\n",
        "                       transform=torchvision.transforms.Compose([\n",
        "                            torchvision.transforms.ToTensor(),\n",
        "                            torchvision.transforms.Normalize((0.1307,), (0.3081,))\n",
        "                            ])\n",
        "                      ), batch_size=64, shuffle=True, pin_memory=True),\n",
        "    'test': torch.utils.data.DataLoader(torchvision.datasets.MNIST('../data', train=False,\n",
        "                   transform=torchvision.transforms.Compose([\n",
        "                        torchvision.transforms.ToTensor(),\n",
        "                        torchvision.transforms.Normalize((0.1307,), (0.3081,))\n",
        "                        ])\n",
        "                     ), batch_size=64, shuffle=False, pin_memory=True)\n",
        "}"
      ]
    },
    {
      "cell_type": "markdown",
      "metadata": {
        "id": "gNbnszhle81f"
      },
      "source": [
        "Vamos a definir una `red convolucional` con varias `capas convolucionales` y `capas de pooling`. Para poder clasificar las imágenes, conectaremos las salidas de la última capa de la red convolucional con un `MLP` para obtener las predicciones finales."
      ]
    },
    {
      "cell_type": "code",
      "execution_count": null,
      "metadata": {
        "ExecuteTime": {
          "end_time": "2020-09-11T10:56:58.781104Z",
          "start_time": "2020-09-11T10:56:58.774102Z"
        },
        "id": "PhhVD3EMe81f"
      },
      "outputs": [],
      "source": [
        "def block(c_in, c_out, k=3, p=1, s=1, pk=2, ps=2):\n",
        "    return torch.nn.Sequential(\n",
        "        torch.nn.Conv2d(c_in, c_out, k, padding=p, stride=s),\n",
        "        torch.nn.ReLU(),\n",
        "        torch.nn.MaxPool2d(pk, stride=ps)\n",
        "    )\n",
        "\n",
        "def block2(c_in, c_out):\n",
        "    return torch.nn.Sequential(\n",
        "        torch.nn.Linear(c_in, c_out),\n",
        "        torch.nn.ReLU()\n",
        "    )\n",
        "\n",
        "class CNN(torch.nn.Module):\n",
        "  def __init__(self, n_channels=1, n_outputs=10):\n",
        "    super().__init__()\n",
        "    self.conv1 = block(n_channels, 64)\n",
        "    self.conv2 = block(64, 128)\n",
        "    self.fc = torch.nn.Linear(128*7*7, n_outputs)\n",
        "\n",
        "  def forward(self, x):\n",
        "    print(\"Dimensiones:\")\n",
        "    print(\"Entrada: \", x.shape)\n",
        "    x = self.conv1(x)\n",
        "    print(\"conv1: \", x.shape)\n",
        "    x = self.conv2(x)\n",
        "    print(\"conv2: \", x.shape)\n",
        "    x = x.view(x.shape[0], -1)\n",
        "    print(\"pre fc: \", x.shape)\n",
        "    x = self.fc(x)\n",
        "    print(\"Salida: \", x.shape)\n",
        "    return x"
      ]
    },
    {
      "cell_type": "code",
      "execution_count": null,
      "metadata": {
        "ExecuteTime": {
          "end_time": "2020-09-11T10:56:58.919115Z",
          "start_time": "2020-09-11T10:56:58.891112Z"
        },
        "id": "_Nk1F1wge81f"
      },
      "outputs": [],
      "source": [
        "model = CNN()\n",
        "\n",
        "output = model(torch.randn(64, 1, 28, 28))"
      ]
    },
    {
      "cell_type": "code",
      "execution_count": null,
      "metadata": {
        "ExecuteTime": {
          "end_time": "2020-09-11T10:56:59.127674Z",
          "start_time": "2020-09-11T10:56:59.123674Z"
        },
        "id": "IbPQoIeIe81f"
      },
      "outputs": [],
      "source": [
        "class CNN(torch.nn.Module):\n",
        "  def __init__(self, n_channels=1, n_outputs=10):\n",
        "    super().__init__()\n",
        "    self.conv1 = block(n_channels, 64)\n",
        "    self.conv2 = block(64, 128)\n",
        "    self.fc = torch.nn.Linear(128*7*7, n_outputs)\n",
        "\n",
        "  def forward(self, x):\n",
        "    x = self.conv1(x)\n",
        "    x = self.conv2(x)\n",
        "    x = x.view(x.shape[0], -1)\n",
        "    x = self.fc(x)\n",
        "    return x"
      ]
    },
    {
      "cell_type": "code",
      "execution_count": null,
      "metadata": {
        "ExecuteTime": {
          "end_time": "2020-09-11T10:56:59.376687Z",
          "start_time": "2020-09-11T10:56:59.369674Z"
        },
        "code_folding": [],
        "id": "1hxZ-bsxe81g"
      },
      "outputs": [],
      "source": [
        "from tqdm import tqdm\n",
        "import numpy as np\n",
        "\n",
        "def fit(model, dataloader, epochs=5):\n",
        "    model.to(device)\n",
        "    optimizer = torch.optim.Adam(model.parameters(), lr=1e-3)\n",
        "    criterion = torch.nn.CrossEntropyLoss()\n",
        "    for epoch in range(1, epochs+1):\n",
        "        model.train()\n",
        "        train_loss, train_acc = [], []\n",
        "        bar = tqdm(dataloader['train'])\n",
        "        for batch in bar:\n",
        "            X, y = batch\n",
        "            X, y = X.to(device), y.to(device)\n",
        "            optimizer.zero_grad()\n",
        "            y_hat = model(X)\n",
        "            loss = criterion(y_hat, y)\n",
        "            loss.backward()\n",
        "            optimizer.step()\n",
        "            train_loss.append(loss.item())\n",
        "            acc = (y == torch.argmax(y_hat, axis=1)).sum().item() / len(y)\n",
        "            train_acc.append(acc)\n",
        "            bar.set_description(f\"loss {np.mean(train_loss):.5f} acc {np.mean(train_acc):.5f}\")\n",
        "        bar = tqdm(dataloader['test'])\n",
        "        val_loss, val_acc = [], []\n",
        "        model.eval()\n",
        "        with torch.no_grad():\n",
        "            for batch in bar:\n",
        "                X, y = batch\n",
        "                X, y = X.to(device), y.to(device)\n",
        "                y_hat = model(X)\n",
        "                loss = criterion(y_hat, y)\n",
        "                val_loss.append(loss.item())\n",
        "                acc = (y == torch.argmax(y_hat, axis=1)).sum().item() / len(y)\n",
        "                val_acc.append(acc)\n",
        "                bar.set_description(f\"val_loss {np.mean(val_loss):.5f} val_acc {np.mean(val_acc):.5f}\")\n",
        "        print(f\"Epoch {epoch}/{epochs} loss {np.mean(train_loss):.5f} val_loss {np.mean(val_loss):.5f} acc {np.mean(train_acc):.5f} val_acc {np.mean(val_acc):.5f}\")"
      ]
    },
    {
      "cell_type": "code",
      "execution_count": 1,
      "metadata": {
        "ExecuteTime": {
          "end_time": "2020-09-11T10:58:32.330170Z",
          "start_time": "2020-09-11T10:56:59.487673Z"
        },
        "id": "SkraUSYle81g",
        "outputId": "4ea994c7-16fb-4f18-b3af-b8a72c77a698",
        "colab": {
          "base_uri": "https://localhost:8080/",
          "height": 158
        }
      },
      "outputs": [
        {
          "output_type": "error",
          "ename": "NameError",
          "evalue": "name 'CNN' is not defined",
          "traceback": [
            "\u001b[0;31m---------------------------------------------------------------------------\u001b[0m",
            "\u001b[0;31mNameError\u001b[0m                                 Traceback (most recent call last)",
            "\u001b[0;32m<ipython-input-1-c1328d105628>\u001b[0m in \u001b[0;36m<cell line: 0>\u001b[0;34m()\u001b[0m\n\u001b[0;32m----> 1\u001b[0;31m \u001b[0mmodel\u001b[0m \u001b[0;34m=\u001b[0m \u001b[0mCNN\u001b[0m\u001b[0;34m(\u001b[0m\u001b[0;34m)\u001b[0m\u001b[0;34m\u001b[0m\u001b[0;34m\u001b[0m\u001b[0m\n\u001b[0m\u001b[1;32m      2\u001b[0m \u001b[0mfit\u001b[0m\u001b[0;34m(\u001b[0m\u001b[0mmodel\u001b[0m\u001b[0;34m,\u001b[0m \u001b[0mdataloader\u001b[0m\u001b[0;34m)\u001b[0m\u001b[0;34m\u001b[0m\u001b[0;34m\u001b[0m\u001b[0m\n",
            "\u001b[0;31mNameError\u001b[0m: name 'CNN' is not defined"
          ]
        }
      ],
      "source": [
        "model = CNN()\n",
        "fit(model, dataloader)"
      ]
    }
  ]
}