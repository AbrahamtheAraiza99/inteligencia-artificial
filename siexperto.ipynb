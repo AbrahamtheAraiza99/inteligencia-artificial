{
  "nbformat": 4,
  "nbformat_minor": 0,
  "metadata": {
    "colab": {
      "provenance": [],
      "authorship_tag": "ABX9TyNmiDexe/7zXe+oV9PNf5HA",
      "include_colab_link": true
    },
    "kernelspec": {
      "name": "python3",
      "display_name": "Python 3"
    },
    "language_info": {
      "name": "python"
    }
  },
  "cells": [
    {
      "cell_type": "markdown",
      "metadata": {
        "id": "view-in-github",
        "colab_type": "text"
      },
      "source": [
        "<a href=\"https://colab.research.google.com/github/AbrahamtheAraiza99/inteligencia-artificial/blob/master/siexperto.ipynb\" target=\"_parent\"><img src=\"https://colab.research.google.com/assets/colab-badge.svg\" alt=\"Open In Colab\"/></a>"
      ]
    },
    {
      "cell_type": "code",
      "execution_count": 4,
      "metadata": {
        "id": "g0eUmjZkloji"
      },
      "outputs": [],
      "source": [
        "# reglas.py\n",
        "\n",
        "def diagnosticar(sintomas):\n",
        "    fiebre = sintomas.get(\"fiebre\", False)\n",
        "    tos = sintomas.get(\"tos\", False)\n",
        "    dolor_garganta = sintomas.get(\"dolor_garganta\", False)\n",
        "    congestion = sintomas.get(\"congestion\", False)\n",
        "    dolor_cabeza = sintomas.get(\"dolor_cabeza\", False)\n",
        "    dolor_cuerpo = sintomas.get(\"dolor_cuerpo\", False)\n",
        "    dificultad_respirar = sintomas.get(\"dificultad_respirar\", False)\n",
        "\n",
        "    if fiebre and tos and dificultad_respirar:\n",
        "        return \"COVID-19\"\n",
        "    elif fiebre and dolor_garganta and dolor_cabeza:\n",
        "        return \"Gripe\"\n",
        "    elif dolor_garganta and congestion:\n",
        "        return \"Resfriado común\"\n",
        "    elif dolor_cabeza and dolor_cuerpo:\n",
        "        return \"Fatiga o estrés\"\n",
        "    else:\n",
        "        return \"Diagnóstico incierto. Consultar a un profesional de salud.\"\n"
      ]
    },
    {
      "cell_type": "code",
      "source": [
        "# utils.py\n",
        "\n",
        "def solicitar_sintomas():\n",
        "    preguntas = {\n",
        "        \"fiebre\": \"¿Tienes fiebre?\",\n",
        "        \"tos\": \"¿Tienes tos?\",\n",
        "        \"dolor_garganta\": \"¿Tienes dolor de garganta?\",\n",
        "        \"congestion\": \"¿Estás congestionado?\",\n",
        "        \"dolor_cabeza\": \"¿Tienes dolor de cabeza?\",\n",
        "        \"dolor_cuerpo\": \"¿Tienes dolor corporal?\",\n",
        "        \"dificultad_respirar\": \"¿Tienes dificultad para respirar?\"\n",
        "    }\n",
        "\n",
        "    respuestas = {}\n",
        "    for sintoma, pregunta in preguntas.items():\n",
        "        r = input(pregunta + \" (sí/no): \").strip().lower()\n",
        "        respuestas[sintoma] = r in ['sí', 'si']\n",
        "    return respuestas\n"
      ],
      "metadata": {
        "id": "LVytzeybluKA"
      },
      "execution_count": 5,
      "outputs": []
    },
    {
      "cell_type": "code",
      "source": [
        "# Sistema Experto - Diagnóstico Médico Simple\n",
        "\n",
        "Este sistema experto realiza un diagnóstico básico en función de síntomas proporcionados por el usuario.\n"
      ],
      "metadata": {
        "colab": {
          "base_uri": "https://localhost:8080/",
          "height": 106
        },
        "id": "E6UiUbwznqVR",
        "outputId": "583c52a2-58e4-4de4-c38c-57effe29c674"
      },
      "execution_count": 9,
      "outputs": [
        {
          "output_type": "error",
          "ename": "SyntaxError",
          "evalue": "invalid syntax (<ipython-input-9-f6b41ed93325>, line 3)",
          "traceback": [
            "\u001b[0;36m  File \u001b[0;32m\"<ipython-input-9-f6b41ed93325>\"\u001b[0;36m, line \u001b[0;32m3\u001b[0m\n\u001b[0;31m    Este sistema experto realiza un diagnóstico básico en función de síntomas proporcionados por el usuario.\u001b[0m\n\u001b[0m         ^\u001b[0m\n\u001b[0;31mSyntaxError\u001b[0m\u001b[0;31m:\u001b[0m invalid syntax\n"
          ]
        }
      ]
    },
    {
      "cell_type": "code",
      "source": [
        "# Ejecutar esta celda primero\n",
        "!pip install import-ipynb\n"
      ],
      "metadata": {
        "colab": {
          "base_uri": "https://localhost:8080/"
        },
        "id": "C4UpBWnKnvjN",
        "outputId": "56a6750c-e897-440a-f6b4-23613f2fa81e"
      },
      "execution_count": 10,
      "outputs": [
        {
          "output_type": "stream",
          "name": "stdout",
          "text": [
            "Collecting import-ipynb\n",
            "  Downloading import_ipynb-0.2-py3-none-any.whl.metadata (2.3 kB)\n",
            "Requirement already satisfied: IPython in /usr/local/lib/python3.11/dist-packages (from import-ipynb) (7.34.0)\n",
            "Requirement already satisfied: nbformat in /usr/local/lib/python3.11/dist-packages (from import-ipynb) (5.10.4)\n",
            "Requirement already satisfied: setuptools>=18.5 in /usr/local/lib/python3.11/dist-packages (from IPython->import-ipynb) (75.2.0)\n",
            "Collecting jedi>=0.16 (from IPython->import-ipynb)\n",
            "  Downloading jedi-0.19.2-py2.py3-none-any.whl.metadata (22 kB)\n",
            "Requirement already satisfied: decorator in /usr/local/lib/python3.11/dist-packages (from IPython->import-ipynb) (4.4.2)\n",
            "Requirement already satisfied: pickleshare in /usr/local/lib/python3.11/dist-packages (from IPython->import-ipynb) (0.7.5)\n",
            "Requirement already satisfied: traitlets>=4.2 in /usr/local/lib/python3.11/dist-packages (from IPython->import-ipynb) (5.7.1)\n",
            "Requirement already satisfied: prompt-toolkit!=3.0.0,!=3.0.1,<3.1.0,>=2.0.0 in /usr/local/lib/python3.11/dist-packages (from IPython->import-ipynb) (3.0.51)\n",
            "Requirement already satisfied: pygments in /usr/local/lib/python3.11/dist-packages (from IPython->import-ipynb) (2.19.1)\n",
            "Requirement already satisfied: backcall in /usr/local/lib/python3.11/dist-packages (from IPython->import-ipynb) (0.2.0)\n",
            "Requirement already satisfied: matplotlib-inline in /usr/local/lib/python3.11/dist-packages (from IPython->import-ipynb) (0.1.7)\n",
            "Requirement already satisfied: pexpect>4.3 in /usr/local/lib/python3.11/dist-packages (from IPython->import-ipynb) (4.9.0)\n",
            "Requirement already satisfied: fastjsonschema>=2.15 in /usr/local/lib/python3.11/dist-packages (from nbformat->import-ipynb) (2.21.1)\n",
            "Requirement already satisfied: jsonschema>=2.6 in /usr/local/lib/python3.11/dist-packages (from nbformat->import-ipynb) (4.23.0)\n",
            "Requirement already satisfied: jupyter-core!=5.0.*,>=4.12 in /usr/local/lib/python3.11/dist-packages (from nbformat->import-ipynb) (5.7.2)\n",
            "Requirement already satisfied: parso<0.9.0,>=0.8.4 in /usr/local/lib/python3.11/dist-packages (from jedi>=0.16->IPython->import-ipynb) (0.8.4)\n",
            "Requirement already satisfied: attrs>=22.2.0 in /usr/local/lib/python3.11/dist-packages (from jsonschema>=2.6->nbformat->import-ipynb) (25.3.0)\n",
            "Requirement already satisfied: jsonschema-specifications>=2023.03.6 in /usr/local/lib/python3.11/dist-packages (from jsonschema>=2.6->nbformat->import-ipynb) (2025.4.1)\n",
            "Requirement already satisfied: referencing>=0.28.4 in /usr/local/lib/python3.11/dist-packages (from jsonschema>=2.6->nbformat->import-ipynb) (0.36.2)\n",
            "Requirement already satisfied: rpds-py>=0.7.1 in /usr/local/lib/python3.11/dist-packages (from jsonschema>=2.6->nbformat->import-ipynb) (0.24.0)\n",
            "Requirement already satisfied: platformdirs>=2.5 in /usr/local/lib/python3.11/dist-packages (from jupyter-core!=5.0.*,>=4.12->nbformat->import-ipynb) (4.3.8)\n",
            "Requirement already satisfied: ptyprocess>=0.5 in /usr/local/lib/python3.11/dist-packages (from pexpect>4.3->IPython->import-ipynb) (0.7.0)\n",
            "Requirement already satisfied: wcwidth in /usr/local/lib/python3.11/dist-packages (from prompt-toolkit!=3.0.0,!=3.0.1,<3.1.0,>=2.0.0->IPython->import-ipynb) (0.2.13)\n",
            "Requirement already satisfied: typing-extensions>=4.4.0 in /usr/local/lib/python3.11/dist-packages (from referencing>=0.28.4->jsonschema>=2.6->nbformat->import-ipynb) (4.13.2)\n",
            "Downloading import_ipynb-0.2-py3-none-any.whl (4.0 kB)\n",
            "Downloading jedi-0.19.2-py2.py3-none-any.whl (1.6 MB)\n",
            "\u001b[2K   \u001b[90m━━━━━━━━━━━━━━━━━━━━━━━━━━━━━━━━━━━━━━━━\u001b[0m \u001b[32m1.6/1.6 MB\u001b[0m \u001b[31m34.2 MB/s\u001b[0m eta \u001b[36m0:00:00\u001b[0m\n",
            "\u001b[?25hInstalling collected packages: jedi, import-ipynb\n",
            "Successfully installed import-ipynb-0.2 jedi-0.19.2\n"
          ]
        }
      ]
    },
    {
      "cell_type": "code",
      "source": [
        "# Ejecutar esta celda para cargar los módulos\n",
        "import import_ipynb\n",
        "from reglas import diagnosticar\n",
        "from utils import solicitar_sintomas\n"
      ],
      "metadata": {
        "colab": {
          "base_uri": "https://localhost:8080/",
          "height": 366
        },
        "id": "xeCqv_vvnymT",
        "outputId": "f0727f14-3647-46f7-ff36-55072c933112"
      },
      "execution_count": 11,
      "outputs": [
        {
          "output_type": "error",
          "ename": "ModuleNotFoundError",
          "evalue": "No module named 'reglas'",
          "traceback": [
            "\u001b[0;31m---------------------------------------------------------------------------\u001b[0m",
            "\u001b[0;31mModuleNotFoundError\u001b[0m                       Traceback (most recent call last)",
            "\u001b[0;32m<ipython-input-11-0962d87c81ca>\u001b[0m in \u001b[0;36m<cell line: 0>\u001b[0;34m()\u001b[0m\n\u001b[1;32m      1\u001b[0m \u001b[0;31m# Ejecutar esta celda para cargar los módulos\u001b[0m\u001b[0;34m\u001b[0m\u001b[0;34m\u001b[0m\u001b[0m\n\u001b[1;32m      2\u001b[0m \u001b[0;32mimport\u001b[0m \u001b[0mimport_ipynb\u001b[0m\u001b[0;34m\u001b[0m\u001b[0;34m\u001b[0m\u001b[0m\n\u001b[0;32m----> 3\u001b[0;31m \u001b[0;32mfrom\u001b[0m \u001b[0mreglas\u001b[0m \u001b[0;32mimport\u001b[0m \u001b[0mdiagnosticar\u001b[0m\u001b[0;34m\u001b[0m\u001b[0;34m\u001b[0m\u001b[0m\n\u001b[0m\u001b[1;32m      4\u001b[0m \u001b[0;32mfrom\u001b[0m \u001b[0mutils\u001b[0m \u001b[0;32mimport\u001b[0m \u001b[0msolicitar_sintomas\u001b[0m\u001b[0;34m\u001b[0m\u001b[0;34m\u001b[0m\u001b[0m\n",
            "\u001b[0;31mModuleNotFoundError\u001b[0m: No module named 'reglas'",
            "",
            "\u001b[0;31m---------------------------------------------------------------------------\u001b[0;32m\nNOTE: If your import is failing due to a missing package, you can\nmanually install dependencies using either !pip or !apt.\n\nTo view examples of installing some common dependencies, click the\n\"Open Examples\" button below.\n\u001b[0;31m---------------------------------------------------------------------------\u001b[0m\n"
          ],
          "errorDetails": {
            "actions": [
              {
                "action": "open_url",
                "actionText": "Open Examples",
                "url": "/notebooks/snippets/importing_libraries.ipynb"
              }
            ]
          }
        }
      ]
    },
    {
      "cell_type": "code",
      "source": [
        "# Ejecutar para hacer diagnóstico\n",
        "sintomas = solicitar_sintomas()\n",
        "resultado = diagnosticar(sintomas)\n",
        "print(\"\\nPosible diagnóstico:\", resultado)\n"
      ],
      "metadata": {
        "colab": {
          "base_uri": "https://localhost:8080/"
        },
        "id": "84ecvn-bn2SP",
        "outputId": "fd294ce3-db8c-4360-d85b-da2f122ee915"
      },
      "execution_count": 14,
      "outputs": [
        {
          "output_type": "stream",
          "name": "stdout",
          "text": [
            "¿Tienes fiebre? (sí/no): si\n",
            "¿Tienes tos? (sí/no): si\n",
            "¿Tienes dolor de garganta? (sí/no): si\n",
            "¿Estás congestionado? (sí/no): si\n",
            "¿Tienes dolor de cabeza? (sí/no): si\n",
            "¿Tienes dolor corporal? (sí/no): si\n",
            "¿Tienes dificultad para respirar? (sí/no): si\n",
            "\n",
            "Posible diagnóstico: COVID-19\n"
          ]
        }
      ]
    },
    {
      "cell_type": "code",
      "source": [],
      "metadata": {
        "id": "J--W46T8n8jV"
      },
      "execution_count": 12,
      "outputs": []
    }
  ]
}